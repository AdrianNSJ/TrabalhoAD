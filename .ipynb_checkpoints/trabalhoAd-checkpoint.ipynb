{
 "cells": [
  {
   "cell_type": "markdown",
   "id": "4c9ba309-ad7e-4177-ac3b-3d10f30efbae",
   "metadata": {},
   "source": [
    "# importando as bibliotecas necessárias"
   ]
  },
  {
   "cell_type": "code",
   "execution_count": 2,
   "id": "9de5b45a-8a63-4f87-88d4-919d271041d3",
   "metadata": {},
   "outputs": [],
   "source": [
    "import pandas as pd\n",
    "import seaborn as srn\n",
    "import statistics as sts\n",
    "import matplotlib.pyplot as plt"
   ]
  },
  {
   "cell_type": "code",
   "execution_count": 3,
   "id": "e06cf7c8-9357-409c-8536-6945d0940600",
   "metadata": {},
   "outputs": [],
   "source": [
    "dados = pd.read_csv('saude_sono.csv', sep = \";\")"
   ]
  },
  {
   "cell_type": "markdown",
   "id": "b137d6b8-e08b-48d1-806b-4d9a18d8423e",
   "metadata": {},
   "source": [
    "# Verificando dados da tabela importada"
   ]
  },
  {
   "cell_type": "code",
   "execution_count": 7,
   "id": "51427371-cc99-4c7e-886a-f0fc953acc46",
   "metadata": {},
   "outputs": [
    {
     "data": {
      "text/plain": [
       "(374, 13)"
      ]
     },
     "execution_count": 7,
     "metadata": {},
     "output_type": "execute_result"
    }
   ],
   "source": [
    "# formato do dataframe \n",
    "dados.shape"
   ]
  },
  {
   "cell_type": "code",
   "execution_count": 8,
   "id": "31d87a49-c3c3-4ae7-b6eb-04700ffafd11",
   "metadata": {},
   "outputs": [
    {
     "data": {
      "text/html": [
       "<div>\n",
       "<style scoped>\n",
       "    .dataframe tbody tr th:only-of-type {\n",
       "        vertical-align: middle;\n",
       "    }\n",
       "\n",
       "    .dataframe tbody tr th {\n",
       "        vertical-align: top;\n",
       "    }\n",
       "\n",
       "    .dataframe thead th {\n",
       "        text-align: right;\n",
       "    }\n",
       "</style>\n",
       "<table border=\"1\" class=\"dataframe\">\n",
       "  <thead>\n",
       "    <tr style=\"text-align: right;\">\n",
       "      <th></th>\n",
       "      <th>Person ID</th>\n",
       "      <th>Gender</th>\n",
       "      <th>Age</th>\n",
       "      <th>Occupation</th>\n",
       "      <th>Sleep Duration</th>\n",
       "      <th>Quality of Sleep</th>\n",
       "      <th>Physical Activity Level</th>\n",
       "      <th>Stress Level</th>\n",
       "      <th>BMI Category</th>\n",
       "      <th>Blood Pressure</th>\n",
       "      <th>Heart Rate</th>\n",
       "      <th>Daily Steps</th>\n",
       "      <th>Sleep Disorder</th>\n",
       "    </tr>\n",
       "  </thead>\n",
       "  <tbody>\n",
       "    <tr>\n",
       "      <th>0</th>\n",
       "      <td>1.0</td>\n",
       "      <td>Male</td>\n",
       "      <td>27</td>\n",
       "      <td>Software Engineer</td>\n",
       "      <td>6.1</td>\n",
       "      <td>6.0</td>\n",
       "      <td>42</td>\n",
       "      <td>6.0</td>\n",
       "      <td>Overweight</td>\n",
       "      <td>126/83</td>\n",
       "      <td>77.0</td>\n",
       "      <td>4200.0</td>\n",
       "      <td>NaN</td>\n",
       "    </tr>\n",
       "    <tr>\n",
       "      <th>1</th>\n",
       "      <td>2.0</td>\n",
       "      <td>Male</td>\n",
       "      <td>28</td>\n",
       "      <td>Doctor</td>\n",
       "      <td>6.2</td>\n",
       "      <td>6.0</td>\n",
       "      <td>60</td>\n",
       "      <td>8.0</td>\n",
       "      <td>Normal</td>\n",
       "      <td>125/80</td>\n",
       "      <td>75.0</td>\n",
       "      <td>10000.0</td>\n",
       "      <td>NaN</td>\n",
       "    </tr>\n",
       "    <tr>\n",
       "      <th>2</th>\n",
       "      <td>3.0</td>\n",
       "      <td>Male</td>\n",
       "      <td>28</td>\n",
       "      <td>Doctor</td>\n",
       "      <td>6.2</td>\n",
       "      <td>6.0</td>\n",
       "      <td>60</td>\n",
       "      <td>8.0</td>\n",
       "      <td>Normal</td>\n",
       "      <td>125/80</td>\n",
       "      <td>75.0</td>\n",
       "      <td>10000.0</td>\n",
       "      <td>NaN</td>\n",
       "    </tr>\n",
       "    <tr>\n",
       "      <th>3</th>\n",
       "      <td>4.0</td>\n",
       "      <td>Male</td>\n",
       "      <td>28</td>\n",
       "      <td>Sales Representative</td>\n",
       "      <td>5.9</td>\n",
       "      <td>4.0</td>\n",
       "      <td>30</td>\n",
       "      <td>8.0</td>\n",
       "      <td>Obese</td>\n",
       "      <td>140/90</td>\n",
       "      <td>85.0</td>\n",
       "      <td>3000.0</td>\n",
       "      <td>Sleep Apnea</td>\n",
       "    </tr>\n",
       "    <tr>\n",
       "      <th>4</th>\n",
       "      <td>5.0</td>\n",
       "      <td>Male</td>\n",
       "      <td>28</td>\n",
       "      <td>Sales Representative</td>\n",
       "      <td>5.9</td>\n",
       "      <td>4.0</td>\n",
       "      <td>30</td>\n",
       "      <td>8.0</td>\n",
       "      <td>Obese</td>\n",
       "      <td>140/90</td>\n",
       "      <td>85.0</td>\n",
       "      <td>3000.0</td>\n",
       "      <td>Sleep Apnea</td>\n",
       "    </tr>\n",
       "  </tbody>\n",
       "</table>\n",
       "</div>"
      ],
      "text/plain": [
       "   Person ID Gender  Age            Occupation  Sleep Duration  \\\n",
       "0        1.0   Male   27     Software Engineer             6.1   \n",
       "1        2.0   Male   28                Doctor             6.2   \n",
       "2        3.0   Male   28                Doctor             6.2   \n",
       "3        4.0   Male   28  Sales Representative             5.9   \n",
       "4        5.0   Male   28  Sales Representative             5.9   \n",
       "\n",
       "   Quality of Sleep  Physical Activity Level  Stress Level BMI Category  \\\n",
       "0               6.0                       42           6.0   Overweight   \n",
       "1               6.0                       60           8.0       Normal   \n",
       "2               6.0                       60           8.0       Normal   \n",
       "3               4.0                       30           8.0        Obese   \n",
       "4               4.0                       30           8.0        Obese   \n",
       "\n",
       "  Blood Pressure  Heart Rate  Daily Steps Sleep Disorder  \n",
       "0         126/83        77.0       4200.0            NaN  \n",
       "1         125/80        75.0      10000.0            NaN  \n",
       "2         125/80        75.0      10000.0            NaN  \n",
       "3         140/90        85.0       3000.0    Sleep Apnea  \n",
       "4         140/90        85.0       3000.0    Sleep Apnea  "
      ]
     },
     "execution_count": 8,
     "metadata": {},
     "output_type": "execute_result"
    }
   ],
   "source": [
    "# verificando os primeiros dados da planilha \n",
    "dados.head()"
   ]
  },
  {
   "cell_type": "code",
   "execution_count": 6,
   "id": "100841f5-20d9-4d50-a614-75faf70e0eff",
   "metadata": {},
   "outputs": [
    {
     "data": {
      "text/html": [
       "<div>\n",
       "<style scoped>\n",
       "    .dataframe tbody tr th:only-of-type {\n",
       "        vertical-align: middle;\n",
       "    }\n",
       "\n",
       "    .dataframe tbody tr th {\n",
       "        vertical-align: top;\n",
       "    }\n",
       "\n",
       "    .dataframe thead th {\n",
       "        text-align: right;\n",
       "    }\n",
       "</style>\n",
       "<table border=\"1\" class=\"dataframe\">\n",
       "  <thead>\n",
       "    <tr style=\"text-align: right;\">\n",
       "      <th></th>\n",
       "      <th>Person ID</th>\n",
       "      <th>Gender</th>\n",
       "      <th>Age</th>\n",
       "      <th>Occupation</th>\n",
       "      <th>Sleep Duration</th>\n",
       "      <th>Quality of Sleep</th>\n",
       "      <th>Physical Activity Level</th>\n",
       "      <th>Stress Level</th>\n",
       "      <th>BMI Category</th>\n",
       "      <th>Blood Pressure</th>\n",
       "      <th>Heart Rate</th>\n",
       "      <th>Daily Steps</th>\n",
       "      <th>Sleep Disorder</th>\n",
       "    </tr>\n",
       "  </thead>\n",
       "  <tbody>\n",
       "    <tr>\n",
       "      <th>369</th>\n",
       "      <td>370.0</td>\n",
       "      <td>Female</td>\n",
       "      <td>59</td>\n",
       "      <td>Nurse</td>\n",
       "      <td>8.1</td>\n",
       "      <td>9.0</td>\n",
       "      <td>75</td>\n",
       "      <td>3.0</td>\n",
       "      <td>Overweight</td>\n",
       "      <td>140/95</td>\n",
       "      <td>68.0</td>\n",
       "      <td>7000.0</td>\n",
       "      <td>Sleep Apnea</td>\n",
       "    </tr>\n",
       "    <tr>\n",
       "      <th>370</th>\n",
       "      <td>371.0</td>\n",
       "      <td>Female</td>\n",
       "      <td>59</td>\n",
       "      <td>Nurse</td>\n",
       "      <td>8.0</td>\n",
       "      <td>9.0</td>\n",
       "      <td>75</td>\n",
       "      <td>3.0</td>\n",
       "      <td>Overweight</td>\n",
       "      <td>140/95</td>\n",
       "      <td>68.0</td>\n",
       "      <td>7000.0</td>\n",
       "      <td>Sleep Apnea</td>\n",
       "    </tr>\n",
       "    <tr>\n",
       "      <th>371</th>\n",
       "      <td>372.0</td>\n",
       "      <td>Female</td>\n",
       "      <td>59</td>\n",
       "      <td>Nurse</td>\n",
       "      <td>8.1</td>\n",
       "      <td>9.0</td>\n",
       "      <td>75</td>\n",
       "      <td>3.0</td>\n",
       "      <td>Overweight</td>\n",
       "      <td>140/95</td>\n",
       "      <td>68.0</td>\n",
       "      <td>7000.0</td>\n",
       "      <td>Sleep Apnea</td>\n",
       "    </tr>\n",
       "    <tr>\n",
       "      <th>372</th>\n",
       "      <td>373.0</td>\n",
       "      <td>Female</td>\n",
       "      <td>59</td>\n",
       "      <td>Nurse</td>\n",
       "      <td>8.1</td>\n",
       "      <td>9.0</td>\n",
       "      <td>75</td>\n",
       "      <td>3.0</td>\n",
       "      <td>Overweight</td>\n",
       "      <td>140/95</td>\n",
       "      <td>68.0</td>\n",
       "      <td>7000.0</td>\n",
       "      <td>Sleep Apnea</td>\n",
       "    </tr>\n",
       "    <tr>\n",
       "      <th>373</th>\n",
       "      <td>374.0</td>\n",
       "      <td>Female</td>\n",
       "      <td>59</td>\n",
       "      <td>Nurse</td>\n",
       "      <td>8.1</td>\n",
       "      <td>9.0</td>\n",
       "      <td>75</td>\n",
       "      <td>3.0</td>\n",
       "      <td>Overweight</td>\n",
       "      <td>140/95</td>\n",
       "      <td>68.0</td>\n",
       "      <td>7000.0</td>\n",
       "      <td>Sleep Apnea</td>\n",
       "    </tr>\n",
       "  </tbody>\n",
       "</table>\n",
       "</div>"
      ],
      "text/plain": [
       "     Person ID  Gender  Age Occupation  Sleep Duration  Quality of Sleep  \\\n",
       "369      370.0  Female   59      Nurse             8.1               9.0   \n",
       "370      371.0  Female   59      Nurse             8.0               9.0   \n",
       "371      372.0  Female   59      Nurse             8.1               9.0   \n",
       "372      373.0  Female   59      Nurse             8.1               9.0   \n",
       "373      374.0  Female   59      Nurse             8.1               9.0   \n",
       "\n",
       "     Physical Activity Level  Stress Level BMI Category Blood Pressure  \\\n",
       "369                       75           3.0   Overweight         140/95   \n",
       "370                       75           3.0   Overweight         140/95   \n",
       "371                       75           3.0   Overweight         140/95   \n",
       "372                       75           3.0   Overweight         140/95   \n",
       "373                       75           3.0   Overweight         140/95   \n",
       "\n",
       "     Heart Rate  Daily Steps Sleep Disorder  \n",
       "369        68.0       7000.0    Sleep Apnea  \n",
       "370        68.0       7000.0    Sleep Apnea  \n",
       "371        68.0       7000.0    Sleep Apnea  \n",
       "372        68.0       7000.0    Sleep Apnea  \n",
       "373        68.0       7000.0    Sleep Apnea  "
      ]
     },
     "execution_count": 6,
     "metadata": {},
     "output_type": "execute_result"
    }
   ],
   "source": [
    "# verificando ultimo dados da tabela\n",
    "dados.tail()"
   ]
  },
  {
   "cell_type": "code",
   "execution_count": 20,
   "id": "35a0047a-8586-4873-a6a1-5c6c7f7e66da",
   "metadata": {},
   "outputs": [],
   "source": [
    "#renomeando as colunas para PT-BR\n",
    "dados.rename(columns={\n",
    "    'Person ID': 'ID',\n",
    "    'Gender': 'Genero',\n",
    "    'Age': 'Idade',\n",
    "    'Occupation': 'Ocupação',\n",
    "    'Sleep Duration': 'Duração de Sono',\n",
    "    'Quality of Sleep': 'Qualidade do Sono',\n",
    "    'Physical Activity Level': 'Nível de Atividade Física',\n",
    "    'Stress Level': 'Nível de Stress',\n",
    "    'BMI Category': 'IMC',\n",
    "    'Blood Pressure': 'Pressão Sanguínea',\n",
    "    'Heart Rate': 'Frequêcia Cardíaca',\n",
    "    'Daily Steps': 'Passos Diários',\n",
    "    'Sleep Disorder': 'Distúrbio do Sono'\n",
    "}, inplace=True)"
   ]
  },
  {
   "cell_type": "code",
   "execution_count": 21,
   "id": "df9448fb-2ae5-4e08-9a4c-5a5f949b6a9b",
   "metadata": {},
   "outputs": [
    {
     "data": {
      "text/html": [
       "<div>\n",
       "<style scoped>\n",
       "    .dataframe tbody tr th:only-of-type {\n",
       "        vertical-align: middle;\n",
       "    }\n",
       "\n",
       "    .dataframe tbody tr th {\n",
       "        vertical-align: top;\n",
       "    }\n",
       "\n",
       "    .dataframe thead th {\n",
       "        text-align: right;\n",
       "    }\n",
       "</style>\n",
       "<table border=\"1\" class=\"dataframe\">\n",
       "  <thead>\n",
       "    <tr style=\"text-align: right;\">\n",
       "      <th></th>\n",
       "      <th>ID</th>\n",
       "      <th>Genero</th>\n",
       "      <th>Idade</th>\n",
       "      <th>Ocupação</th>\n",
       "      <th>Duração de Sono</th>\n",
       "      <th>Qualidade do Sono</th>\n",
       "      <th>Nível de Atividade Física</th>\n",
       "      <th>Nível de Stress</th>\n",
       "      <th>IMC</th>\n",
       "      <th>Pressão Sanguínea</th>\n",
       "      <th>Frequêcia Cardíaca</th>\n",
       "      <th>Passos Diários</th>\n",
       "      <th>Distúrbio do Sono</th>\n",
       "    </tr>\n",
       "  </thead>\n",
       "  <tbody>\n",
       "    <tr>\n",
       "      <th>0</th>\n",
       "      <td>1.0</td>\n",
       "      <td>Male</td>\n",
       "      <td>27</td>\n",
       "      <td>Software Engineer</td>\n",
       "      <td>6.1</td>\n",
       "      <td>6.0</td>\n",
       "      <td>42</td>\n",
       "      <td>6.0</td>\n",
       "      <td>Overweight</td>\n",
       "      <td>126/83</td>\n",
       "      <td>77.0</td>\n",
       "      <td>4200.0</td>\n",
       "      <td>NaN</td>\n",
       "    </tr>\n",
       "  </tbody>\n",
       "</table>\n",
       "</div>"
      ],
      "text/plain": [
       "    ID Genero  Idade           Ocupação  Duração de Sono  Qualidade do Sono  \\\n",
       "0  1.0   Male     27  Software Engineer              6.1                6.0   \n",
       "\n",
       "   Nível de Atividade Física  Nível de Stress         IMC Pressão Sanguínea  \\\n",
       "0                         42              6.0  Overweight            126/83   \n",
       "\n",
       "   Frequêcia Cardíaca  Passos Diários Distúrbio do Sono  \n",
       "0                77.0          4200.0               NaN  "
      ]
     },
     "execution_count": 21,
     "metadata": {},
     "output_type": "execute_result"
    }
   ],
   "source": [
    "#Verificando as alterações\n",
    "dados.head(1)"
   ]
  },
  {
   "cell_type": "markdown",
   "id": "0c3247e3-950a-439f-b7e0-006a4e0a623a",
   "metadata": {},
   "source": [
    "# Tratamento de Dados nulos encontrados na Tabela saude_sono"
   ]
  },
  {
   "cell_type": "code",
   "execution_count": 12,
   "id": "d1e25a94-f55a-4581-ba64-2fd7265166b4",
   "metadata": {},
   "outputs": [
    {
     "data": {
      "text/plain": [
       "ID                             2\n",
       "Genero                         0\n",
       "Idade                          0\n",
       "Ocupação                       0\n",
       "Duração de Sono                0\n",
       "Qualidade do Sono              1\n",
       "Nível de Atividade Física      0\n",
       "Nível de Stress                1\n",
       "IMC                            0\n",
       "Pressão Sanguínea              0\n",
       "Frequêcia Cardíaca             3\n",
       "Passos Diários                 4\n",
       "Distúrbio do Sono            219\n",
       "dtype: int64"
      ]
     },
     "execution_count": 12,
     "metadata": {},
     "output_type": "execute_result"
    }
   ],
   "source": [
    "#Verificando os dados nulos\n",
    "dados.isnull().sum()"
   ]
  },
  {
   "cell_type": "code",
   "execution_count": 13,
   "id": "4331db17-139d-4fb6-8835-aa9d7e277dde",
   "metadata": {},
   "outputs": [
    {
     "data": {
      "text/plain": [
       "0        1.0\n",
       "1        2.0\n",
       "2        3.0\n",
       "3        4.0\n",
       "4        5.0\n",
       "       ...  \n",
       "369    370.0\n",
       "370    371.0\n",
       "371    372.0\n",
       "372    373.0\n",
       "373    374.0\n",
       "Name: ID, Length: 374, dtype: float64"
      ]
     },
     "execution_count": 13,
     "metadata": {},
     "output_type": "execute_result"
    }
   ],
   "source": [
    "#descrição da coluna ID\n",
    "dados.ID"
   ]
  },
  {
   "cell_type": "code",
   "execution_count": 14,
   "id": "2546e611-61ab-4a2a-a52f-af8e7e6bb069",
   "metadata": {},
   "outputs": [],
   "source": [
    "#Preenchendo dados nulos de ID\n",
    "dados.fillna({'ID': 375}, inplace = True)\n",
    "dados.fillna({'ID': 376}, inplace = True)"
   ]
  },
  {
   "cell_type": "code",
   "execution_count": 15,
   "id": "dbc56c14-4d84-40e6-96bf-c39cc736a94f",
   "metadata": {},
   "outputs": [
    {
     "data": {
      "text/plain": [
       "0"
      ]
     },
     "execution_count": 15,
     "metadata": {},
     "output_type": "execute_result"
    }
   ],
   "source": [
    "# verificando se ainda existem valores nulos\n",
    "dados['ID'].isnull().sum()"
   ]
  },
  {
   "cell_type": "code",
   "execution_count": 16,
   "id": "64ed5b86-d270-4217-89a0-f0ab24056e59",
   "metadata": {},
   "outputs": [],
   "source": [
    "# Preechendo dados nulos em Qualidade do Sono \n",
    "mediana_qualiSono = sts.median(dados['Qualidade do Sono'])\n",
    "mediana_qualiSono \n",
    "dados.fillna({'Qualidade do Sono': mediana_qualiSono}, inplace= True)"
   ]
  },
  {
   "cell_type": "code",
   "execution_count": 17,
   "id": "89b9ce67-e280-4d79-b4ed-7945ed3eec8e",
   "metadata": {},
   "outputs": [
    {
     "data": {
      "text/plain": [
       "0"
      ]
     },
     "execution_count": 17,
     "metadata": {},
     "output_type": "execute_result"
    }
   ],
   "source": [
    "# verificando se ainda existem valores nulos\n",
    "dados['Qualidade do Sono'].isnull().sum()"
   ]
  },
  {
   "cell_type": "code",
   "execution_count": 18,
   "id": "b6e0adb6-7b62-471e-8c93-6e490ccc5d57",
   "metadata": {},
   "outputs": [],
   "source": [
    "# Preechendo dados nulos em Nivel de Stress \n",
    "mediana_Nivel_Stress = sts.median(dados['Qualidade do Sono'])\n",
    "mediana_Nivel_Stress\n",
    "dados.fillna({'Nível de Stress': mediana_Nivel_Stress}, inplace= True)"
   ]
  },
  {
   "cell_type": "code",
   "execution_count": 19,
   "id": "041c4619-9461-4e2a-b1b2-fc073237c34c",
   "metadata": {},
   "outputs": [
    {
     "data": {
      "text/plain": [
       "0"
      ]
     },
     "execution_count": 19,
     "metadata": {},
     "output_type": "execute_result"
    }
   ],
   "source": [
    "# verificando se ainda existem valores nulos\n",
    "dados['Nível de Stress'].isnull().sum()"
   ]
  },
  {
   "cell_type": "code",
   "execution_count": 20,
   "id": "9bfdfb1e-73b2-409b-8fe2-f49f814ff93c",
   "metadata": {},
   "outputs": [],
   "source": [
    "# Preechendo dados nulos em Frequêcia Cardíaca    \n",
    "mediana_FreqCard = sts.median(dados['Frequêcia Cardíaca'])\n",
    "mediana_FreqCard\n",
    "dados.fillna({'Frequêcia Cardíaca': mediana_FreqCard}, inplace= True)"
   ]
  },
  {
   "cell_type": "code",
   "execution_count": 21,
   "id": "e6284466-a63d-40a2-8682-22e5f90fb70e",
   "metadata": {},
   "outputs": [
    {
     "data": {
      "text/plain": [
       "0"
      ]
     },
     "execution_count": 21,
     "metadata": {},
     "output_type": "execute_result"
    }
   ],
   "source": [
    "# verificando se ainda existem valores nulos\n",
    "dados['Frequêcia Cardíaca'].isnull().sum()"
   ]
  },
  {
   "cell_type": "code",
   "execution_count": 22,
   "id": "829ce4d1-2fac-4548-9372-210d8636f3ce",
   "metadata": {},
   "outputs": [],
   "source": [
    "# Preechendo dados nulos em Passos Diários   \n",
    "mediana_PassosD = sts.median(dados['Passos Diários'])\n",
    "mediana_PassosD\n",
    "dados.fillna({'Passos Diários': mediana_PassosD}, inplace= True)"
   ]
  },
  {
   "cell_type": "code",
   "execution_count": 23,
   "id": "a4bb837d-751c-4ae4-b2b4-265c0a9604c6",
   "metadata": {},
   "outputs": [
    {
     "data": {
      "text/plain": [
       "0"
      ]
     },
     "execution_count": 23,
     "metadata": {},
     "output_type": "execute_result"
    }
   ],
   "source": [
    "# verificando se ainda existem valores nulos\n",
    "dados['Passos Diários'].isnull().sum()"
   ]
  },
  {
   "cell_type": "code",
   "execution_count": 24,
   "id": "396d3e8c-efba-465c-a903-57fa6aa8b8ec",
   "metadata": {},
   "outputs": [
    {
     "data": {
      "text/plain": [
       "Distúrbio do Sono\n",
       "Insomnia       77\n",
       "Sleep Apnea    78\n",
       "dtype: int64"
      ]
     },
     "execution_count": 24,
     "metadata": {},
     "output_type": "execute_result"
    }
   ],
   "source": [
    "# agrupamos disturbio do sono\n",
    "dados_DistSono = dados.groupby(['Distúrbio do Sono']).size()\n",
    "dados_DistSono"
   ]
  },
  {
   "cell_type": "code",
   "execution_count": 25,
   "id": "2c6d50f6-09b1-4a59-84f3-04a3edaff492",
   "metadata": {},
   "outputs": [],
   "source": [
    "# preenchendo os valores nulos com a moda \n",
    "dados.fillna({'Distúrbio do Sono': 'Sleep Apnea'}, inplace = True)"
   ]
  },
  {
   "cell_type": "code",
   "execution_count": 26,
   "id": "aecd897b-dfa6-4d69-b438-d9f4d7383c0f",
   "metadata": {},
   "outputs": [
    {
     "data": {
      "text/plain": [
       "0"
      ]
     },
     "execution_count": 26,
     "metadata": {},
     "output_type": "execute_result"
    }
   ],
   "source": [
    "# verificar se ainda existem valores nulos\n",
    "dados['Distúrbio do Sono'].isnull().sum()"
   ]
  },
  {
   "cell_type": "code",
   "execution_count": 27,
   "id": "6b766f8d-32f5-486a-8c3d-9c73290c36c4",
   "metadata": {},
   "outputs": [
    {
     "data": {
      "text/plain": [
       "ID                           0\n",
       "Genero                       0\n",
       "Idade                        0\n",
       "Ocupação                     0\n",
       "Duração de Sono              0\n",
       "Qualidade do Sono            0\n",
       "Nível de Atividade Física    0\n",
       "Nível de Stress              0\n",
       "IMC                          0\n",
       "Pressão Sanguínea            0\n",
       "Frequêcia Cardíaca           0\n",
       "Passos Diários               0\n",
       "Distúrbio do Sono            0\n",
       "dtype: int64"
      ]
     },
     "execution_count": 27,
     "metadata": {},
     "output_type": "execute_result"
    }
   ],
   "source": [
    "#Verificando todos os dados nulos\n",
    "dados.isnull().sum()"
   ]
  },
  {
   "cell_type": "markdown",
   "id": "38d2f7fb-aaae-43fc-95c5-9b55aa19ca80",
   "metadata": {},
   "source": [
    "# Descobrindo os valores dos limites -  Outliers "
   ]
  },
  {
   "cell_type": "code",
   "execution_count": 28,
   "id": "1b8705a0-06ef-4589-8ba6-447099a510b4",
   "metadata": {},
   "outputs": [
    {
     "data": {
      "text/plain": [
       "count    374.000000\n",
       "mean      42.184492\n",
       "std        8.673133\n",
       "min       27.000000\n",
       "25%       35.250000\n",
       "50%       43.000000\n",
       "75%       50.000000\n",
       "max       59.000000\n",
       "Name: Idade, dtype: float64"
      ]
     },
     "execution_count": 28,
     "metadata": {},
     "output_type": "execute_result"
    }
   ],
   "source": [
    "#relembrando o resumo estatístico\n",
    "dados['Idade'].describe()"
   ]
  },
  {
   "cell_type": "code",
   "execution_count": 29,
   "id": "eeace9c5-f35f-4571-a103-273fb30e6a4a",
   "metadata": {},
   "outputs": [
    {
     "name": "stdout",
     "output_type": "stream",
     "text": [
      "iq:  15 \n",
      "lim_inf:  12.5 \n",
      "lim_sup:  72.5\n"
     ]
    }
   ],
   "source": [
    "# descobrir os valores dos limites de Idade\n",
    "\n",
    "q1 = 35\n",
    "q3 = 50\n",
    "iq = q3 - q1\n",
    "lim_inf =  q1 - 1.5 * iq\n",
    "lim_sup = q3 + 1.5 * iq\n",
    "\n",
    "print('iq: ', iq, '\\nlim_inf: ', lim_inf, '\\nlim_sup: ', lim_sup)"
   ]
  },
  {
   "cell_type": "code",
   "execution_count": 30,
   "id": "50fe4b92-ea15-4e20-85e1-114a9ed4ca11",
   "metadata": {},
   "outputs": [
    {
     "data": {
      "text/html": [
       "<div>\n",
       "<style scoped>\n",
       "    .dataframe tbody tr th:only-of-type {\n",
       "        vertical-align: middle;\n",
       "    }\n",
       "\n",
       "    .dataframe tbody tr th {\n",
       "        vertical-align: top;\n",
       "    }\n",
       "\n",
       "    .dataframe thead th {\n",
       "        text-align: right;\n",
       "    }\n",
       "</style>\n",
       "<table border=\"1\" class=\"dataframe\">\n",
       "  <thead>\n",
       "    <tr style=\"text-align: right;\">\n",
       "      <th></th>\n",
       "      <th>ID</th>\n",
       "      <th>Genero</th>\n",
       "      <th>Idade</th>\n",
       "      <th>Ocupação</th>\n",
       "      <th>Duração de Sono</th>\n",
       "      <th>Qualidade do Sono</th>\n",
       "      <th>Nível de Atividade Física</th>\n",
       "      <th>Nível de Stress</th>\n",
       "      <th>IMC</th>\n",
       "      <th>Pressão Sanguínea</th>\n",
       "      <th>Frequêcia Cardíaca</th>\n",
       "      <th>Passos Diários</th>\n",
       "      <th>Distúrbio do Sono</th>\n",
       "    </tr>\n",
       "  </thead>\n",
       "  <tbody>\n",
       "  </tbody>\n",
       "</table>\n",
       "</div>"
      ],
      "text/plain": [
       "Empty DataFrame\n",
       "Columns: [ID, Genero, Idade, Ocupação, Duração de Sono, Qualidade do Sono, Nível de Atividade Física, Nível de Stress, IMC, Pressão Sanguínea, Frequêcia Cardíaca, Passos Diários, Distúrbio do Sono]\n",
       "Index: []"
      ]
     },
     "execution_count": 30,
     "metadata": {},
     "output_type": "execute_result"
    }
   ],
   "source": [
    "# conferir se ainda tem outlier\n",
    "dados.loc[((dados['Idade'] <= lim_inf) | (dados['Idade'] >= lim_sup))]"
   ]
  },
  {
   "cell_type": "code",
   "execution_count": 31,
   "id": "798b124e-e69c-4150-99f6-6b4f66570c4c",
   "metadata": {},
   "outputs": [
    {
     "data": {
      "text/plain": [
       "count    374.000000\n",
       "mean       7.132086\n",
       "std        0.795657\n",
       "min        5.800000\n",
       "25%        6.400000\n",
       "50%        7.200000\n",
       "75%        7.800000\n",
       "max        8.500000\n",
       "Name: Duração de Sono, dtype: float64"
      ]
     },
     "execution_count": 31,
     "metadata": {},
     "output_type": "execute_result"
    }
   ],
   "source": [
    "#relembrando o resumo estatístico\n",
    "dados['Duração de Sono'].describe()"
   ]
  },
  {
   "cell_type": "code",
   "execution_count": 32,
   "id": "33c26ad2-5cb2-426f-8464-bf81315b8b8e",
   "metadata": {},
   "outputs": [
    {
     "name": "stdout",
     "output_type": "stream",
     "text": [
      "iq:  1.3999999999999995 \n",
      "lim_inf:  4.300000000000001 \n",
      "lim_sup:  9.899999999999999\n"
     ]
    }
   ],
   "source": [
    "# descobrir os valores dos limites de Duração de Sono\n",
    "\n",
    "q1 = 6.400\n",
    "q3 =  7.800\n",
    "iq = q3 - q1\n",
    "lim_inf =  q1 - 1.5 * iq\n",
    "lim_sup = q3 + 1.5 * iq\n",
    "\n",
    "print('iq: ', iq, '\\nlim_inf: ', lim_inf, '\\nlim_sup: ', lim_sup)"
   ]
  },
  {
   "cell_type": "code",
   "execution_count": 33,
   "id": "795f8a68-7f65-46e0-8c64-7e3c9c49a73e",
   "metadata": {},
   "outputs": [
    {
     "data": {
      "text/html": [
       "<div>\n",
       "<style scoped>\n",
       "    .dataframe tbody tr th:only-of-type {\n",
       "        vertical-align: middle;\n",
       "    }\n",
       "\n",
       "    .dataframe tbody tr th {\n",
       "        vertical-align: top;\n",
       "    }\n",
       "\n",
       "    .dataframe thead th {\n",
       "        text-align: right;\n",
       "    }\n",
       "</style>\n",
       "<table border=\"1\" class=\"dataframe\">\n",
       "  <thead>\n",
       "    <tr style=\"text-align: right;\">\n",
       "      <th></th>\n",
       "      <th>ID</th>\n",
       "      <th>Genero</th>\n",
       "      <th>Idade</th>\n",
       "      <th>Ocupação</th>\n",
       "      <th>Duração de Sono</th>\n",
       "      <th>Qualidade do Sono</th>\n",
       "      <th>Nível de Atividade Física</th>\n",
       "      <th>Nível de Stress</th>\n",
       "      <th>IMC</th>\n",
       "      <th>Pressão Sanguínea</th>\n",
       "      <th>Frequêcia Cardíaca</th>\n",
       "      <th>Passos Diários</th>\n",
       "      <th>Distúrbio do Sono</th>\n",
       "    </tr>\n",
       "  </thead>\n",
       "  <tbody>\n",
       "  </tbody>\n",
       "</table>\n",
       "</div>"
      ],
      "text/plain": [
       "Empty DataFrame\n",
       "Columns: [ID, Genero, Idade, Ocupação, Duração de Sono, Qualidade do Sono, Nível de Atividade Física, Nível de Stress, IMC, Pressão Sanguínea, Frequêcia Cardíaca, Passos Diários, Distúrbio do Sono]\n",
       "Index: []"
      ]
     },
     "execution_count": 33,
     "metadata": {},
     "output_type": "execute_result"
    }
   ],
   "source": [
    "# conferir se ainda tem outlier\n",
    "dados.loc[((dados['Duração de Sono'] <= lim_inf) | (dados['Duração de Sono'] >= lim_sup))]"
   ]
  },
  {
   "cell_type": "code",
   "execution_count": 65,
   "id": "bd98a1dc-fc70-4263-85aa-b35a354fbd33",
   "metadata": {},
   "outputs": [
    {
     "data": {
      "text/plain": [
       "count    374.000000\n",
       "mean       7.283422\n",
       "std        1.350164\n",
       "min       -5.000000\n",
       "25%        6.000000\n",
       "50%        7.000000\n",
       "75%        8.000000\n",
       "max        9.000000\n",
       "Name: Qualidade do Sono, dtype: float64"
      ]
     },
     "execution_count": 65,
     "metadata": {},
     "output_type": "execute_result"
    }
   ],
   "source": [
    "#relembrando o resumo estatístico\n",
    "dados['Qualidade do Sono'].describe()"
   ]
  },
  {
   "cell_type": "code",
   "execution_count": 66,
   "id": "af540f23-32ac-46a2-b519-0dc81ef5b383",
   "metadata": {},
   "outputs": [
    {
     "name": "stdout",
     "output_type": "stream",
     "text": [
      "iq:  2.0 \n",
      "lim_inf:  3.0 \n",
      "lim_sup:  11.0\n"
     ]
    }
   ],
   "source": [
    "# descobrir os valores dos limites de Qualidade do Sono\n",
    "\n",
    "q1 = 6.00\n",
    "q3 =  8.00\n",
    "iq = q3 - q1\n",
    "lim_inf =  q1 - 1.5 * iq\n",
    "lim_sup = q3 + 1.5 * iq\n",
    "\n",
    "print('iq: ', iq, '\\nlim_inf: ', lim_inf, '\\nlim_sup: ', lim_sup)"
   ]
  },
  {
   "cell_type": "code",
   "execution_count": 67,
   "id": "788eb299-d722-4387-b87d-46fb7b14bdee",
   "metadata": {},
   "outputs": [
    {
     "data": {
      "text/html": [
       "<div>\n",
       "<style scoped>\n",
       "    .dataframe tbody tr th:only-of-type {\n",
       "        vertical-align: middle;\n",
       "    }\n",
       "\n",
       "    .dataframe tbody tr th {\n",
       "        vertical-align: top;\n",
       "    }\n",
       "\n",
       "    .dataframe thead th {\n",
       "        text-align: right;\n",
       "    }\n",
       "</style>\n",
       "<table border=\"1\" class=\"dataframe\">\n",
       "  <thead>\n",
       "    <tr style=\"text-align: right;\">\n",
       "      <th></th>\n",
       "      <th>ID</th>\n",
       "      <th>Genero</th>\n",
       "      <th>Idade</th>\n",
       "      <th>Ocupação</th>\n",
       "      <th>Duração de Sono</th>\n",
       "      <th>Qualidade do Sono</th>\n",
       "      <th>Nível de Atividade Física</th>\n",
       "      <th>Nível de Stress</th>\n",
       "      <th>IMC</th>\n",
       "      <th>Pressão Sanguínea</th>\n",
       "      <th>Frequêcia Cardíaca</th>\n",
       "      <th>Passos Diários</th>\n",
       "      <th>Distúrbio do Sono</th>\n",
       "    </tr>\n",
       "  </thead>\n",
       "  <tbody>\n",
       "    <tr>\n",
       "      <th>16</th>\n",
       "      <td>17.0</td>\n",
       "      <td>Female</td>\n",
       "      <td>29</td>\n",
       "      <td>Nurse</td>\n",
       "      <td>6.5</td>\n",
       "      <td>-5.0</td>\n",
       "      <td>60</td>\n",
       "      <td>7.0</td>\n",
       "      <td>Normal Weight</td>\n",
       "      <td>132/87</td>\n",
       "      <td>80.0</td>\n",
       "      <td>4000.0</td>\n",
       "      <td>Sleep Apnea</td>\n",
       "    </tr>\n",
       "  </tbody>\n",
       "</table>\n",
       "</div>"
      ],
      "text/plain": [
       "      ID  Genero  Idade Ocupação  Duração de Sono  Qualidade do Sono  \\\n",
       "16  17.0  Female     29    Nurse              6.5               -5.0   \n",
       "\n",
       "    Nível de Atividade Física  Nível de Stress            IMC  \\\n",
       "16                         60              7.0  Normal Weight   \n",
       "\n",
       "   Pressão Sanguínea  Frequêcia Cardíaca  Passos Diários Distúrbio do Sono  \n",
       "16            132/87                80.0          4000.0       Sleep Apnea  "
      ]
     },
     "execution_count": 67,
     "metadata": {},
     "output_type": "execute_result"
    }
   ],
   "source": [
    "# conferir se ainda tem outlier\n",
    "dados.loc[((dados['Qualidade do Sono'] <= lim_inf) | (dados['Qualidade do Sono'] >= lim_sup))]"
   ]
  },
  {
   "cell_type": "code",
   "execution_count": 89,
   "id": "37ad3832-1640-4609-b821-ca5320b73d9b",
   "metadata": {},
   "outputs": [
    {
     "name": "stdout",
     "output_type": "stream",
     "text": [
      "iq:  30 \n",
      "lim_inf:  0.0 \n",
      "lim_sup:  120.0\n"
     ]
    }
   ],
   "source": [
    "# descobrir os valores dos limites de Nível de Atividade Física\n",
    "\n",
    "q1 = 45\n",
    "q3 =  75\n",
    "iq = q3 - q1\n",
    "lim_inf =  q1 - 1.5 * iq\n",
    "lim_sup = q3 + 1.5 * iq\n",
    "\n",
    "print('iq: ', iq, '\\nlim_inf: ', lim_inf, '\\nlim_sup: ', lim_sup)"
   ]
  },
  {
   "cell_type": "code",
   "execution_count": 90,
   "id": "a3330f3d-f2a0-481b-86ab-ee64c9a1b4e4",
   "metadata": {},
   "outputs": [
    {
     "data": {
      "text/plain": [
       "60.0"
      ]
     },
     "execution_count": 90,
     "metadata": {},
     "output_type": "execute_result"
    }
   ],
   "source": [
    "mediana_Naf = sts.median(dados['Nível de Atividade Física'])\n",
    "mediana_Naf"
   ]
  },
  {
   "cell_type": "code",
   "execution_count": 108,
   "id": "8df7d0dc-3877-49e5-aa22-4cbd54cb3517",
   "metadata": {},
   "outputs": [],
   "source": [
    "# substituir os outliers pela mediana\n",
    "# valores abaixo de lim_inf OU acima de lim_sup\n",
    "dados.loc[((dados['Nível de Atividade Física'] <= lim_inf) | \n",
    "           (dados['Nível de Atividade Física'] >= lim_sup)), \n",
    "'Nível de Atividade Física'] = mediana_Naf\n"
   ]
  },
  {
   "cell_type": "code",
   "execution_count": 92,
   "id": "3cb22f75-f5b0-4ffa-9f32-07b0e5567b4e",
   "metadata": {},
   "outputs": [
    {
     "data": {
      "text/html": [
       "<div>\n",
       "<style scoped>\n",
       "    .dataframe tbody tr th:only-of-type {\n",
       "        vertical-align: middle;\n",
       "    }\n",
       "\n",
       "    .dataframe tbody tr th {\n",
       "        vertical-align: top;\n",
       "    }\n",
       "\n",
       "    .dataframe thead th {\n",
       "        text-align: right;\n",
       "    }\n",
       "</style>\n",
       "<table border=\"1\" class=\"dataframe\">\n",
       "  <thead>\n",
       "    <tr style=\"text-align: right;\">\n",
       "      <th></th>\n",
       "      <th>ID</th>\n",
       "      <th>Genero</th>\n",
       "      <th>Idade</th>\n",
       "      <th>Ocupação</th>\n",
       "      <th>Duração de Sono</th>\n",
       "      <th>Qualidade do Sono</th>\n",
       "      <th>Nível de Atividade Física</th>\n",
       "      <th>Nível de Stress</th>\n",
       "      <th>IMC</th>\n",
       "      <th>Pressão Sanguínea</th>\n",
       "      <th>Frequêcia Cardíaca</th>\n",
       "      <th>Passos Diários</th>\n",
       "      <th>Distúrbio do Sono</th>\n",
       "    </tr>\n",
       "  </thead>\n",
       "  <tbody>\n",
       "  </tbody>\n",
       "</table>\n",
       "</div>"
      ],
      "text/plain": [
       "Empty DataFrame\n",
       "Columns: [ID, Genero, Idade, Ocupação, Duração de Sono, Qualidade do Sono, Nível de Atividade Física, Nível de Stress, IMC, Pressão Sanguínea, Frequêcia Cardíaca, Passos Diários, Distúrbio do Sono]\n",
       "Index: []"
      ]
     },
     "execution_count": 92,
     "metadata": {},
     "output_type": "execute_result"
    }
   ],
   "source": [
    "# conferir se ainda tem outlier\n",
    "dados.loc[((dados['Nível de Atividade Física'] <= lim_inf) | (dados['Nível de Atividade Física'] >= lim_sup))]"
   ]
  },
  {
   "cell_type": "code",
   "execution_count": 94,
   "id": "a0aa0a96-d1c7-4a33-bbcb-089bd92166b0",
   "metadata": {},
   "outputs": [
    {
     "data": {
      "text/plain": [
       "count    374.000000\n",
       "mean       5.382353\n",
       "std        1.771326\n",
       "min        3.000000\n",
       "25%        4.000000\n",
       "50%        5.000000\n",
       "75%        7.000000\n",
       "max        8.000000\n",
       "Name: Nível de Stress, dtype: float64"
      ]
     },
     "execution_count": 94,
     "metadata": {},
     "output_type": "execute_result"
    }
   ],
   "source": [
    "#relembrando o resumo estatístico\n",
    "dados['Nível de Stress'].describe()"
   ]
  },
  {
   "cell_type": "code",
   "execution_count": null,
   "id": "8160c366-5019-4039-9e7d-a48600f893b5",
   "metadata": {},
   "outputs": [],
   "source": [
    "# descobrir os valores dos limites de Nível de Stress\n",
    "\n",
    "q1 = 4.00\n",
    "q3 =  7.00\n",
    "iq = q3 - q1\n",
    "lim_inf =  q1 - 1.5 * iq\n",
    "lim_sup = q3 + 1.5 * iq\n",
    "\n",
    "print('iq: ', iq, '\\nlim_inf: ', lim_inf, '\\nlim_sup: ', lim_sup)"
   ]
  },
  {
   "cell_type": "code",
   "execution_count": 96,
   "id": "ba5c1f58-ae35-44ba-a9b4-4f28fa33a1a2",
   "metadata": {},
   "outputs": [
    {
     "data": {
      "text/plain": [
       "5.0"
      ]
     },
     "execution_count": 96,
     "metadata": {},
     "output_type": "execute_result"
    }
   ],
   "source": [
    "mediana_Ns = sts.median(dados['Nível de Stress'])\n",
    "mediana_Ns"
   ]
  },
  {
   "cell_type": "code",
   "execution_count": 97,
   "id": "fd8c4a08-d903-4a67-acb8-684528d6c484",
   "metadata": {},
   "outputs": [],
   "source": [
    "# substituir os outliers pela mediana\n",
    "# valores abaixo de lim_inf OU acima de lim_sup\n",
    "dados.loc[((dados['Nível de Stress'] <= lim_inf) | \n",
    "           (dados['Nível de Stress'] >= lim_sup)), \n",
    "            'Nível de Stress'] = mediana_Ns"
   ]
  },
  {
   "cell_type": "code",
   "execution_count": 98,
   "id": "eb13362b-f6ef-419e-8264-79b6af1fe4c2",
   "metadata": {},
   "outputs": [
    {
     "data": {
      "text/html": [
       "<div>\n",
       "<style scoped>\n",
       "    .dataframe tbody tr th:only-of-type {\n",
       "        vertical-align: middle;\n",
       "    }\n",
       "\n",
       "    .dataframe tbody tr th {\n",
       "        vertical-align: top;\n",
       "    }\n",
       "\n",
       "    .dataframe thead th {\n",
       "        text-align: right;\n",
       "    }\n",
       "</style>\n",
       "<table border=\"1\" class=\"dataframe\">\n",
       "  <thead>\n",
       "    <tr style=\"text-align: right;\">\n",
       "      <th></th>\n",
       "      <th>ID</th>\n",
       "      <th>Genero</th>\n",
       "      <th>Idade</th>\n",
       "      <th>Ocupação</th>\n",
       "      <th>Duração de Sono</th>\n",
       "      <th>Qualidade do Sono</th>\n",
       "      <th>Nível de Atividade Física</th>\n",
       "      <th>Nível de Stress</th>\n",
       "      <th>IMC</th>\n",
       "      <th>Pressão Sanguínea</th>\n",
       "      <th>Frequêcia Cardíaca</th>\n",
       "      <th>Passos Diários</th>\n",
       "      <th>Distúrbio do Sono</th>\n",
       "    </tr>\n",
       "  </thead>\n",
       "  <tbody>\n",
       "  </tbody>\n",
       "</table>\n",
       "</div>"
      ],
      "text/plain": [
       "Empty DataFrame\n",
       "Columns: [ID, Genero, Idade, Ocupação, Duração de Sono, Qualidade do Sono, Nível de Atividade Física, Nível de Stress, IMC, Pressão Sanguínea, Frequêcia Cardíaca, Passos Diários, Distúrbio do Sono]\n",
       "Index: []"
      ]
     },
     "execution_count": 98,
     "metadata": {},
     "output_type": "execute_result"
    }
   ],
   "source": [
    "# conferir se ainda tem outlier\n",
    "dados.loc[((dados['Nível de Stress'] <= lim_inf) | \n",
    "           (dados['Nível de Stress'] >= lim_sup))]"
   ]
  },
  {
   "cell_type": "code",
   "execution_count": 95,
   "id": "7625ccf0-c346-4016-8c93-7941aac63c26",
   "metadata": {},
   "outputs": [
    {
     "data": {
      "text/plain": [
       "count      374.000000\n",
       "mean      6794.644385\n",
       "std       1645.132622\n",
       "min         -3.000000\n",
       "25%       5600.000000\n",
       "50%       7000.000000\n",
       "75%       8000.000000\n",
       "max      10000.000000\n",
       "Name: Passos Diários, dtype: float64"
      ]
     },
     "execution_count": 95,
     "metadata": {},
     "output_type": "execute_result"
    }
   ],
   "source": [
    "#relembrando o resumo estatístico\n",
    "dados['Passos Diários'].describe()"
   ]
  },
  {
   "cell_type": "code",
   "execution_count": 99,
   "id": "b5f4c454-bc0e-4520-b058-d2269b930a0c",
   "metadata": {},
   "outputs": [
    {
     "name": "stdout",
     "output_type": "stream",
     "text": [
      "iq:  2400 \n",
      "lim_inf:  2000.0 \n",
      "lim_sup:  11600.0\n"
     ]
    }
   ],
   "source": [
    "# descobrir os valores dos Passos Diários\n",
    "\n",
    "q1 = 5600\n",
    "q3 =  8000\n",
    "iq = q3 - q1\n",
    "lim_inf =  q1 - 1.5 * iq\n",
    "lim_sup = q3 + 1.5 * iq\n",
    "\n",
    "print('iq: ', iq, '\\nlim_inf: ', lim_inf, '\\nlim_sup: ', lim_sup)"
   ]
  },
  {
   "cell_type": "code",
   "execution_count": 100,
   "id": "af372505-437d-49e5-b1da-fb46b76262d4",
   "metadata": {},
   "outputs": [
    {
     "data": {
      "text/plain": [
       "7000.0"
      ]
     },
     "execution_count": 100,
     "metadata": {},
     "output_type": "execute_result"
    }
   ],
   "source": [
    "mediana_Ps = sts.median(dados['Passos Diários'])\n",
    "mediana_Ps"
   ]
  },
  {
   "cell_type": "code",
   "execution_count": 106,
   "id": "dff6409f-c08b-4042-8c07-2d2cef854170",
   "metadata": {},
   "outputs": [],
   "source": [
    "# substituir os outliers pela mediana\n",
    "# valores abaixo de lim_inf OU acima de lim_sup\n",
    "dados.loc[((dados['Passos Diários'] <= lim_inf) |\n",
    "           (dados['Passos Diários'] >= lim_sup)),'Passos Diários'] = mediana_Ps"
   ]
  },
  {
   "cell_type": "code",
   "execution_count": 107,
   "id": "d76e3c70-56c3-4602-9bf1-f4e8a0ea90ed",
   "metadata": {},
   "outputs": [
    {
     "data": {
      "text/html": [
       "<div>\n",
       "<style scoped>\n",
       "    .dataframe tbody tr th:only-of-type {\n",
       "        vertical-align: middle;\n",
       "    }\n",
       "\n",
       "    .dataframe tbody tr th {\n",
       "        vertical-align: top;\n",
       "    }\n",
       "\n",
       "    .dataframe thead th {\n",
       "        text-align: right;\n",
       "    }\n",
       "</style>\n",
       "<table border=\"1\" class=\"dataframe\">\n",
       "  <thead>\n",
       "    <tr style=\"text-align: right;\">\n",
       "      <th></th>\n",
       "      <th>ID</th>\n",
       "      <th>Genero</th>\n",
       "      <th>Idade</th>\n",
       "      <th>Ocupação</th>\n",
       "      <th>Duração de Sono</th>\n",
       "      <th>Qualidade do Sono</th>\n",
       "      <th>Nível de Atividade Física</th>\n",
       "      <th>Nível de Stress</th>\n",
       "      <th>IMC</th>\n",
       "      <th>Pressão Sanguínea</th>\n",
       "      <th>Frequêcia Cardíaca</th>\n",
       "      <th>Passos Diários</th>\n",
       "      <th>Distúrbio do Sono</th>\n",
       "    </tr>\n",
       "  </thead>\n",
       "  <tbody>\n",
       "  </tbody>\n",
       "</table>\n",
       "</div>"
      ],
      "text/plain": [
       "Empty DataFrame\n",
       "Columns: [ID, Genero, Idade, Ocupação, Duração de Sono, Qualidade do Sono, Nível de Atividade Física, Nível de Stress, IMC, Pressão Sanguínea, Frequêcia Cardíaca, Passos Diários, Distúrbio do Sono]\n",
       "Index: []"
      ]
     },
     "execution_count": 107,
     "metadata": {},
     "output_type": "execute_result"
    }
   ],
   "source": [
    "# conferir se ainda tem outlier\n",
    "dados.loc[((dados['Passos Diários'] <= lim_inf) | (dados['Passos Diários'] >= lim_sup))]"
   ]
  },
  {
   "cell_type": "markdown",
   "id": "55fb4cf2-0dc8-4a49-a1b8-5a9efd65a691",
   "metadata": {},
   "source": [
    "# Gráficos"
   ]
  },
  {
   "cell_type": "markdown",
   "id": "9fe41e9c-6c1d-473f-8846-f56efd513bd8",
   "metadata": {},
   "source": [
    "# Gráfico de Barras comparando Ocupação X Nível de Stress"
   ]
  },
  {
   "cell_type": "code",
   "execution_count": 31,
   "id": "a036c5e6-c5ec-41c6-a752-1fb2cb81a381",
   "metadata": {},
   "outputs": [
    {
     "data": {
      "text/plain": [
       "Text(0.5, 1.0, 'Nível de Stress dos Médicos')"
      ]
     },
     "execution_count": 31,
     "metadata": {},
     "output_type": "execute_result"
    },
    {
     "data": {
      "image/png": "[encoded data removed]",
      "text/plain": [
       "<Figure size 640x480 with 1 Axes>"
      ]
     },
     "metadata": {},
     "output_type": "display_data"
    }
   ],
   "source": [
    "srn.histplot(\n",
    "    dados.loc[dados['Ocupação'] == 'Doctor']['Nível de Stress']\n",
    ").set_title('Nível de Stress dos Médicos')"
   ]
  },
  {
   "cell_type": "code",
   "execution_count": 36,
   "id": "0d1c9656-dd09-4c91-9687-a327d5d54d0f",
   "metadata": {},
   "outputs": [
    {
     "data": {
      "text/plain": [
       "Text(0.5, 1.0, 'Nível de Atividade Física')"
      ]
     },
     "execution_count": 36,
     "metadata": {},
     "output_type": "execute_result"
    },
    {
     "data": {
      "image/png": "[encoded data removed]",
      "text/plain": [
       "<Figure size 640x480 with 1 Axes>"
      ]
     },
     "metadata": {},
     "output_type": "display_data"
    }
   ],
   "source": [
    "# histograma da atividade física (Nível de Atividade Física)\n",
    "srn.histplot(dados['Genero'],\n",
    "            bins = 10).set_title('Nível de Atividade Física')"
   ]
  },
  {
   "cell_type": "code",
   "execution_count": null,
   "id": "382705a1-1018-4849-8bc3-01f342ac9fe6",
   "metadata": {},
   "outputs": [],
   "source": []
  }
 ],
 "metadata": {
  "kernelspec": {
   "display_name": "Python 3 (ipykernel)",
   "language": "python",
   "name": "python3"
  },
  "language_info": {
   "codemirror_mode": {
    "name": "ipython",
    "version": 3
   },
   "file_extension": ".py",
   "mimetype": "text/x-python",
   "name": "python",
   "nbconvert_exporter": "python",
   "pygments_lexer": "ipython3",
   "version": "3.12.7"
  }
 },
 "nbformat": 4,
 "nbformat_minor": 5
}
